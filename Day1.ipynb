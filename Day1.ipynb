{
  "nbformat": 4,
  "nbformat_minor": 0,
  "metadata": {
    "colab": {
      "name": "Day1.ipynb",
      "version": "0.3.2",
      "provenance": [],
      "include_colab_link": true
    },
    "kernelspec": {
      "name": "python3",
      "display_name": "Python 3"
    }
  },
  "cells": [
    {
      "cell_type": "markdown",
      "metadata": {
        "id": "view-in-github",
        "colab_type": "text"
      },
      "source": [
        "<a href=\"https://colab.research.google.com/github/bitz1119/IIITA_ml_workshop/blob/master/Day1.ipynb\" target=\"_parent\"><img src=\"https://colab.research.google.com/assets/colab-badge.svg\" alt=\"Open In Colab\"/></a>"
      ]
    },
    {
      "cell_type": "code",
      "metadata": {
        "id": "3Wp9tPLPWcs5",
        "colab_type": "code",
        "colab": {
          "base_uri": "https://localhost:8080/",
          "height": 33
        },
        "outputId": "3095a48b-fccc-486a-e22d-e8b4f5f687d5"
      },
      "source": [
        "print(\"hello world \" ,end = \"\" )\n",
        "print(\"welcome to ML class\")"
      ],
      "execution_count": 5,
      "outputs": [
        {
          "output_type": "stream",
          "text": [
            "hello world welcome to ML class\n"
          ],
          "name": "stdout"
        }
      ]
    },
    {
      "cell_type": "code",
      "metadata": {
        "id": "SYN-nLVuYIRv",
        "colab_type": "code",
        "colab": {
          "base_uri": "https://localhost:8080/",
          "height": 33
        },
        "outputId": "356865a1-45b9-470a-f12c-8f2dc77085fb"
      },
      "source": [
        "inp1 = input()"
      ],
      "execution_count": 7,
      "outputs": [
        {
          "output_type": "stream",
          "text": [
            "'abcd\n"
          ],
          "name": "stdout"
        }
      ]
    },
    {
      "cell_type": "code",
      "metadata": {
        "id": "AQtjWJsSZZ3E",
        "colab_type": "code",
        "colab": {
          "base_uri": "https://localhost:8080/",
          "height": 33
        },
        "outputId": "ffe82331-8b1d-4da7-d853-e08e41cdeea8"
      },
      "source": [
        "print(inp1)"
      ],
      "execution_count": 8,
      "outputs": [
        {
          "output_type": "stream",
          "text": [
            "'abcd\n"
          ],
          "name": "stdout"
        }
      ]
    },
    {
      "cell_type": "code",
      "metadata": {
        "id": "H8UizUEmaXdK",
        "colab_type": "code",
        "colab": {
          "base_uri": "https://localhost:8080/",
          "height": 33
        },
        "outputId": "ab0da5c2-d259-49ea-c2bd-9540f008a1c3"
      },
      "source": [
        "type(inp1)"
      ],
      "execution_count": 9,
      "outputs": [
        {
          "output_type": "execute_result",
          "data": {
            "text/plain": [
              "str"
            ]
          },
          "metadata": {
            "tags": []
          },
          "execution_count": 9
        }
      ]
    },
    {
      "cell_type": "code",
      "metadata": {
        "id": "QefwXw24adwB",
        "colab_type": "code",
        "colab": {
          "base_uri": "https://localhost:8080/",
          "height": 33
        },
        "outputId": "e24c2f6f-11bd-454b-b09f-fc1e0834cfe3"
      },
      "source": [
        "inp2 = input()"
      ],
      "execution_count": 10,
      "outputs": [
        {
          "output_type": "stream",
          "text": [
            "25\n"
          ],
          "name": "stdout"
        }
      ]
    },
    {
      "cell_type": "code",
      "metadata": {
        "id": "w_8rjrWoajSf",
        "colab_type": "code",
        "colab": {
          "base_uri": "https://localhost:8080/",
          "height": 33
        },
        "outputId": "bb7eb091-065d-4f85-e985-9a5086ab07f5"
      },
      "source": [
        "type(inp2)"
      ],
      "execution_count": 11,
      "outputs": [
        {
          "output_type": "execute_result",
          "data": {
            "text/plain": [
              "str"
            ]
          },
          "metadata": {
            "tags": []
          },
          "execution_count": 11
        }
      ]
    },
    {
      "cell_type": "code",
      "metadata": {
        "id": "4MBG_uUUare_",
        "colab_type": "code",
        "colab": {}
      },
      "source": [
        "inp2 = int(inp2)"
      ],
      "execution_count": 0,
      "outputs": []
    },
    {
      "cell_type": "code",
      "metadata": {
        "id": "OxREfHFlbSmm",
        "colab_type": "code",
        "colab": {
          "base_uri": "https://localhost:8080/",
          "height": 33
        },
        "outputId": "cdf6faf3-bd95-46c8-e9de-5f70b2a3b875"
      },
      "source": [
        "type(inp2)"
      ],
      "execution_count": 15,
      "outputs": [
        {
          "output_type": "execute_result",
          "data": {
            "text/plain": [
              "int"
            ]
          },
          "metadata": {
            "tags": []
          },
          "execution_count": 15
        }
      ]
    },
    {
      "cell_type": "code",
      "metadata": {
        "id": "WZuhi6-0bda0",
        "colab_type": "code",
        "colab": {
          "base_uri": "https://localhost:8080/",
          "height": 33
        },
        "outputId": "d8d0e55d-7c72-49fc-9ce2-62e03adfdd22"
      },
      "source": [
        "101//2"
      ],
      "execution_count": 20,
      "outputs": [
        {
          "output_type": "execute_result",
          "data": {
            "text/plain": [
              "50"
            ]
          },
          "metadata": {
            "tags": []
          },
          "execution_count": 20
        }
      ]
    },
    {
      "cell_type": "code",
      "metadata": {
        "id": "yDiJe670b9po",
        "colab_type": "code",
        "colab": {
          "base_uri": "https://localhost:8080/",
          "height": 33
        },
        "outputId": "18a2c461-4fdf-4755-ec6f-d81d41ca4a7b"
      },
      "source": [
        "10%3"
      ],
      "execution_count": 23,
      "outputs": [
        {
          "output_type": "execute_result",
          "data": {
            "text/plain": [
              "1"
            ]
          },
          "metadata": {
            "tags": []
          },
          "execution_count": 23
        }
      ]
    },
    {
      "cell_type": "code",
      "metadata": {
        "id": "g3EKKaQGcduU",
        "colab_type": "code",
        "colab": {
          "base_uri": "https://localhost:8080/",
          "height": 33
        },
        "outputId": "2c689577-e0ea-4728-befe-757fa4beda73"
      },
      "source": [
        "2 != 1"
      ],
      "execution_count": 27,
      "outputs": [
        {
          "output_type": "execute_result",
          "data": {
            "text/plain": [
              "True"
            ]
          },
          "metadata": {
            "tags": []
          },
          "execution_count": 27
        }
      ]
    },
    {
      "cell_type": "code",
      "metadata": {
        "id": "9q4g6yegdP6O",
        "colab_type": "code",
        "colab": {
          "base_uri": "https://localhost:8080/",
          "height": 33
        },
        "outputId": "a06410ea-d5ba-4430-c82e-bae73a000f4b"
      },
      "source": [
        "not (1<2) "
      ],
      "execution_count": 32,
      "outputs": [
        {
          "output_type": "execute_result",
          "data": {
            "text/plain": [
              "False"
            ]
          },
          "metadata": {
            "tags": []
          },
          "execution_count": 32
        }
      ]
    },
    {
      "cell_type": "code",
      "metadata": {
        "id": "tZLGDQsWdtiW",
        "colab_type": "code",
        "colab": {
          "base_uri": "https://localhost:8080/",
          "height": 50
        },
        "outputId": "5fcde5d9-be7c-4eb1-8cbe-4df04d82206d"
      },
      "source": [
        "# agar number divisible hai 2 se toh even else odd\n",
        "n = int(input())\n",
        "\n",
        "if(n%2 == 0):\n",
        "  print(\"number is even\")\n",
        "  \n",
        "else:\n",
        "  print(\"number is odd\")"
      ],
      "execution_count": 33,
      "outputs": [
        {
          "output_type": "stream",
          "text": [
            "103\n",
            "number is odd\n"
          ],
          "name": "stdout"
        }
      ]
    },
    {
      "cell_type": "code",
      "metadata": {
        "id": "aVCAJTHcgoAG",
        "colab_type": "code",
        "colab": {
          "base_uri": "https://localhost:8080/",
          "height": 50
        },
        "outputId": "afabf7c4-c15b-4d29-c1c6-be0d964d5982"
      },
      "source": [
        "# Write a program \n",
        "\n",
        "num = int(input())\n",
        "if(num%3 == 0):\n",
        "  print(\"zero\")\n",
        "elif(num%3 == 1):\n",
        "  print(\"one\")\n",
        "else:\n",
        "  print(\"two\")\n",
        "    "
      ],
      "execution_count": 34,
      "outputs": [
        {
          "output_type": "stream",
          "text": [
            "7\n",
            "one\n"
          ],
          "name": "stdout"
        }
      ]
    },
    {
      "cell_type": "code",
      "metadata": {
        "id": "7n131QySiDDd",
        "colab_type": "code",
        "colab": {
          "base_uri": "https://localhost:8080/",
          "height": 183
        },
        "outputId": "6d16c558-6cf7-4fc2-c062-d3b59e6bc14e"
      },
      "source": [
        "counter = 1\n",
        "while(counter <= 10):\n",
        "  print(1)\n",
        "  counter = counter + 1"
      ],
      "execution_count": 35,
      "outputs": [
        {
          "output_type": "stream",
          "text": [
            "1\n",
            "1\n",
            "1\n",
            "1\n",
            "1\n",
            "1\n",
            "1\n",
            "1\n",
            "1\n",
            "1\n"
          ],
          "name": "stdout"
        }
      ]
    },
    {
      "cell_type": "code",
      "metadata": {
        "id": "_ifWJXNMjTOk",
        "colab_type": "code",
        "colab": {
          "base_uri": "https://localhost:8080/",
          "height": 50
        },
        "outputId": "2a2f362f-6f1b-4e88-e1b1-075cf606b603"
      },
      "source": [
        "n = int(input())\n",
        "counter = 2\n",
        "prime_status = 0\n",
        "\n",
        "while(counter <= n-1):\n",
        "  if(n%counter==0):\n",
        "    prime_status = 1\n",
        "    break\n",
        "  counter = counter + 1\n",
        "\n",
        "if(prime_status == 0):\n",
        "  print(\"Prime\")\n",
        "\n",
        "else:\n",
        "  print(\"not prime\")\n",
        "  "
      ],
      "execution_count": 38,
      "outputs": [
        {
          "output_type": "stream",
          "text": [
            "99\n",
            "not prime\n"
          ],
          "name": "stdout"
        }
      ]
    },
    {
      "cell_type": "code",
      "metadata": {
        "id": "3vpSeXSqod-z",
        "colab_type": "code",
        "colab": {}
      },
      "source": [
        "a = [1,2,3,4,5,6,7,8,9,10]"
      ],
      "execution_count": 0,
      "outputs": []
    },
    {
      "cell_type": "code",
      "metadata": {
        "id": "r0ccmOQJ-fhZ",
        "colab_type": "code",
        "colab": {
          "base_uri": "https://localhost:8080/",
          "height": 33
        },
        "outputId": "7312a1cc-ca89-4345-fada-0759ffcb3680"
      },
      "source": [
        "a[5]"
      ],
      "execution_count": 41,
      "outputs": [
        {
          "output_type": "execute_result",
          "data": {
            "text/plain": [
              "6"
            ]
          },
          "metadata": {
            "tags": []
          },
          "execution_count": 41
        }
      ]
    },
    {
      "cell_type": "code",
      "metadata": {
        "id": "OLMPg7o8-rbD",
        "colab_type": "code",
        "colab": {}
      },
      "source": [
        "lis = ['abcd',12,'pqr',14]"
      ],
      "execution_count": 0,
      "outputs": []
    },
    {
      "cell_type": "code",
      "metadata": {
        "id": "KN5Ce9V8_EvD",
        "colab_type": "code",
        "colab": {
          "base_uri": "https://localhost:8080/",
          "height": 33
        },
        "outputId": "65411a3e-837b-4183-f903-94cb7aa726f4"
      },
      "source": [
        "lis[2]"
      ],
      "execution_count": 44,
      "outputs": [
        {
          "output_type": "execute_result",
          "data": {
            "text/plain": [
              "'pqr'"
            ]
          },
          "metadata": {
            "tags": []
          },
          "execution_count": 44
        }
      ]
    },
    {
      "cell_type": "code",
      "metadata": {
        "id": "hmb5D6fF_Rtr",
        "colab_type": "code",
        "colab": {
          "base_uri": "https://localhost:8080/",
          "height": 33
        },
        "outputId": "b62e7d5a-8fad-4954-f626-4ca528ecd516"
      },
      "source": [
        "len(lis)"
      ],
      "execution_count": 45,
      "outputs": [
        {
          "output_type": "execute_result",
          "data": {
            "text/plain": [
              "4"
            ]
          },
          "metadata": {
            "tags": []
          },
          "execution_count": 45
        }
      ]
    },
    {
      "cell_type": "code",
      "metadata": {
        "id": "wXarcZT3_eAi",
        "colab_type": "code",
        "colab": {
          "base_uri": "https://localhost:8080/",
          "height": 33
        },
        "outputId": "3eafe40f-eefe-4845-b79d-e9d130531763"
      },
      "source": [
        "12 in lis"
      ],
      "execution_count": 48,
      "outputs": [
        {
          "output_type": "execute_result",
          "data": {
            "text/plain": [
              "True"
            ]
          },
          "metadata": {
            "tags": []
          },
          "execution_count": 48
        }
      ]
    },
    {
      "cell_type": "code",
      "metadata": {
        "id": "CStkZ9dr_xuC",
        "colab_type": "code",
        "colab": {}
      },
      "source": [
        "lis = [3,4,5,6,1,2]"
      ],
      "execution_count": 0,
      "outputs": []
    },
    {
      "cell_type": "code",
      "metadata": {
        "id": "grNY9UCIAEQ4",
        "colab_type": "code",
        "colab": {}
      },
      "source": [
        "lis = sorted(lis)"
      ],
      "execution_count": 0,
      "outputs": []
    },
    {
      "cell_type": "code",
      "metadata": {
        "id": "0o-FvSEqDToU",
        "colab_type": "code",
        "colab": {}
      },
      "source": [
        "def fact(num):\n",
        "  counter = 1\n",
        "  abhi_tak_fact = 1\n",
        "  while(counter <= num):\n",
        "    abhi_tak_fact  = abhi_tak_fact * counter\n",
        "    counter = counter + 1\n",
        "    \n",
        "  return abhi_tak_fact\n",
        "    "
      ],
      "execution_count": 0,
      "outputs": []
    },
    {
      "cell_type": "code",
      "metadata": {
        "id": "vmcHlBxcAGq1",
        "colab_type": "code",
        "colab": {
          "base_uri": "https://localhost:8080/",
          "height": 66
        },
        "outputId": "d0e7a619-f379-4c11-f7b5-67a4b2ed8dc8"
      },
      "source": [
        "n = int(input())\n",
        "r = int(input())\n",
        "nfact = fact(n)\n",
        "rfact = fact(r)\n",
        "n_minus_r = fact(n-r)\n",
        "\n",
        "result = nfact/(rfact*n_minus_r)\n",
        "\n",
        "print(result)\n"
      ],
      "execution_count": 53,
      "outputs": [
        {
          "output_type": "stream",
          "text": [
            "10\n",
            "6\n",
            "210.0\n"
          ],
          "name": "stdout"
        }
      ]
    },
    {
      "cell_type": "code",
      "metadata": {
        "id": "zwzYd4xkEqED",
        "colab_type": "code",
        "colab": {}
      },
      "source": [
        "class car:\n",
        "  def __init__(self,color1,company1):\n",
        "    self.color = color1\n",
        "    self.company = company1\n",
        "    self.dist = 0\n",
        "    \n",
        "    \n",
        "  def distance_covered(self,dist_covered):\n",
        "    self.dist = self.dist + dist_covered\n",
        "  \n",
        "    \n",
        "  "
      ],
      "execution_count": 0,
      "outputs": []
    },
    {
      "cell_type": "code",
      "metadata": {
        "id": "Q0GqPIVHJxer",
        "colab_type": "code",
        "colab": {}
      },
      "source": [
        "c1 = car('red','audi')"
      ],
      "execution_count": 0,
      "outputs": []
    },
    {
      "cell_type": "code",
      "metadata": {
        "id": "OxvEdTiwJ5ri",
        "colab_type": "code",
        "colab": {}
      },
      "source": [
        "c1.distance_covered(100)"
      ],
      "execution_count": 0,
      "outputs": []
    },
    {
      "cell_type": "code",
      "metadata": {
        "id": "AOrjIWCyJ8TY",
        "colab_type": "code",
        "colab": {
          "base_uri": "https://localhost:8080/",
          "height": 33
        },
        "outputId": "c348fea4-a0b5-40b5-d5e4-3919f1da46e8"
      },
      "source": [
        "c1.dist"
      ],
      "execution_count": 63,
      "outputs": [
        {
          "output_type": "execute_result",
          "data": {
            "text/plain": [
              "100"
            ]
          },
          "metadata": {
            "tags": []
          },
          "execution_count": 63
        }
      ]
    },
    {
      "cell_type": "markdown",
      "metadata": {
        "id": "xs9tBXffOWpG",
        "colab_type": "text"
      },
      "source": [
        "[http://cs231n.github.io/python-numpy-tutorial/](http://cs231n.github.io/python-numpy-tutorial/)"
      ]
    },
    {
      "cell_type": "code",
      "metadata": {
        "id": "Ltnrm5oXLEmm",
        "colab_type": "code",
        "colab": {}
      },
      "source": [
        "http://cs231n.github.io/python-numpy-tutorial/"
      ],
      "execution_count": 0,
      "outputs": []
    }
  ]
}